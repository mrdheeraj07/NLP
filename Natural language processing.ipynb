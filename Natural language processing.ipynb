{
 "cells": [
  {
   "cell_type": "markdown",
   "metadata": {},
   "source": [
    "# Natural language processing\n",
    "\n",
    "## Stemming\n",
    "\n",
    "To find out the root word of a word like helping,stemming,swimming....which is used mainly for natural language processing, text mining, where the model takes only cleaned word , this process is stemming..."
   ]
  },
  {
   "cell_type": "code",
   "execution_count": 3,
   "metadata": {},
   "outputs": [],
   "source": [
    "import nltk"
   ]
  },
  {
   "cell_type": "code",
   "execution_count": 4,
   "metadata": {},
   "outputs": [
    {
     "data": {
      "text/plain": [
       "'swim'"
      ]
     },
     "execution_count": 4,
     "metadata": {},
     "output_type": "execute_result"
    }
   ],
   "source": [
    "from nltk.stem.porter import PorterStemmer\n",
    "stem= PorterStemmer()\n",
    "word = \"swimming\"\n",
    "stem.stem(word)"
   ]
  },
  {
   "cell_type": "markdown",
   "metadata": {},
   "source": [
    "## Noise removal\n",
    "\n",
    "As i already said nlp model takes up cleaned words, it literally means these punctuation, i, am, kind of words will be removed in order to vectorised mathematically "
   ]
  },
  {
   "cell_type": "code",
   "execution_count": 7,
   "metadata": {},
   "outputs": [
    {
     "name": "stdout",
     "output_type": "stream",
     "text": [
      "dheeraj, ?\n"
     ]
    }
   ],
   "source": [
    "noise_list = [\"I\",\"am\"]\n",
    "def remove_noise(input_text):\n",
    "    words=input_text.split()\n",
    "    noise_free_words=[word for word in words if word not in noise_list]\n",
    "    noise_free_text=\" \".join(noise_free_words)\n",
    "    return noise_free_text\n",
    "sample_text = \"I am dheeraj, am I ?\"\n",
    "cleaned_output=remove_noise(sample_text)\n",
    "print(cleaned_output)"
   ]
  },
  {
   "cell_type": "code",
   "execution_count": null,
   "metadata": {},
   "outputs": [],
   "source": []
  }
 ],
 "metadata": {
  "kernelspec": {
   "display_name": "Python 3",
   "language": "python",
   "name": "python3"
  },
  "language_info": {
   "codemirror_mode": {
    "name": "ipython",
    "version": 3
   },
   "file_extension": ".py",
   "mimetype": "text/x-python",
   "name": "python",
   "nbconvert_exporter": "python",
   "pygments_lexer": "ipython3",
   "version": "3.7.1"
  }
 },
 "nbformat": 4,
 "nbformat_minor": 2
}
